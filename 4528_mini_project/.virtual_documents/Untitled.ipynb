import cv2 
import numpy as np 
import matplotlib 
import matplotlib.pyplot as plt 
import os 


IMAGE_PATH = './jcsmr.jpg'

# Harris corner parameters
HARRIS_BLOCK_SIZE = 7 # neighbourhood size 
HARRIS_KSIZE = 5 # aperture parameter for Sobel operator 
HARRIS_K = 0.06 # harris detector free parameter 

# Canny edge parameters 
CANNY_THRESHOLD_1 = 100 # Lower threshold for hysteresis procedure 
CANNY_THRESHOLD_2 = 200 # Upper threshold for hysteresis procedure 


def display_images(images, titles, cmap='gray', figsize=(15, 5), save_path="plot.png"):
    """Helper func to display multiple images"""
    n_images = len(images)
    plt.figure(figsize=figsize)
    for i in range(n_images):
        plt.subplot(1, n_images, i + 1)
        plt.imshow(images[i], cmap=cmap if images[i].ndim == 2 else None)
        plt.title(titles[i])
        plt.axis('off')

        # colorbar for harris response (non binary grayscale img)
        if images[i].ndim == 2 and cmap != 'gray':
            # only add colorbar if max > min and not essentially binary 
            if images[i].min() < images[i].max() and not np.all(np.isclose(images[i], 0) | np.isclose(images[i], 1)):
                plt.colorbar()
    plt.tight_layout()

    if save_path:
        plt.savefig(save_path, dpi=150)
    plt.show()
    plt.close()


print(f"Loading image from: {IMAGE_PATH}")
if not os.path.exists(IMAGE_PATH):
    raise FileNotFoundError(f"file not found at specified path")

# load in bgr format 
img_bgr = cv2.imread(IMAGE_PATH)

if img_bgr is None:
    raise IOError(f"error: could not read image file")

print(f"image shape: {img_bgr.shape}")


# convert to grayscale 
img_gray_uint8 = cv2.cvtColor(img_bgr, cv2.COLOR_BGR2GRAY) # canny 
img_gray_float32 = np.float32(img_gray_uint8) / 255.0 # harris

# check for shape and type 
print(f"img shape: {img_gray_uint8.shape}, dtype: {img_gray_uint8.dtype}")
print(f"img shape: {img_gray_float32.shape}, dtype: {img_gray_float32.dtype}")
print(f"Range: [{img_gray_float32.min():.2f}, {img_gray_float32.max():.2f}]")


# -------------------------------------------------------------------------------------------
# generate harris corner ground truth 
# in: float32 grayscale img -> out: float32 response map (higher val indicate higher corner likelihood)
harris_response = cv2.cornerHarris(img_gray_float32, blockSize=HARRIS_BLOCK_SIZE, ksize=HARRIS_KSIZE, k=HARRIS_K)

# normalize to [0, 1]
harris_normalized = np.zeros_like(harris_response, dtype=np.float32)
cv2.normalize(harris_response, harris_normalized, alpha=0, beta=1, norm_type=cv2.NORM_MINMAX)

print(f"norm shape: {harris_normalized.shape}, dtype: {harris_normalized.dtype}, range: [{harris_normalized.min():.4f}, {harris_normalized.max():.4f}]")
print(f"Raw Harris Response Range: [{harris_response.min():.6f}, {harris_response.max():.6f}]")


# --------------------------------------------------------------------------------------------
# generate canny edge ground truth
# in: uint8 grayscale img -> out: uint8 binary img (0 or 255)
canny_edges = cv2.Canny(img_gray_uint8, threshold1=CANNY_THRESHOLD_1, threshold2=CANNY_THRESHOLD_2)

# convert output (0, 255) to flaot32 map with vals [0, 1] for binary cross entropy loss 
canny_float = (canny_edges / 255.0).astype(np.float32)

print(f"canny shape: {canny_float.shape}, dtype: {canny_float.dtype}, unique values: {np.unique(canny_float)}")


# --- Visualization --- 
print("Displaying results")
display_images(
    [cv2.cvtColor(img_bgr, cv2.COLOR_BGR2RGB), img_gray_uint8, harris_normalized, canny_float], 
    ['Original RGB', "grayscale input", f'Harris (Norm, k={HARRIS_K})', f'Canny (threshold={CANNY_THRESHOLD_1}/{CANNY_THRESHOLD_2})'],
    cmap='viridis',
    figsize=(20, 5)
)



